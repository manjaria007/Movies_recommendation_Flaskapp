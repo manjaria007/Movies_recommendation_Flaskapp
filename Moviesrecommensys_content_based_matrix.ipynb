{
 "cells": [
  {
   "cell_type": "code",
   "execution_count": 1,
   "metadata": {},
   "outputs": [],
   "source": [
    "import pandas as pd\n",
    "import matplotlib.pyplot as plt\n",
    "import numpy as np\n",
    "import seaborn as sns"
   ]
  },
  {
   "cell_type": "code",
   "execution_count": 3,
   "metadata": {},
   "outputs": [],
   "source": [
    "movies_pr = pd.read_csv('C:/Users/mohit/movies-processed.csv')"
   ]
  },
  {
   "cell_type": "code",
   "execution_count": 21,
   "metadata": {},
   "outputs": [
    {
     "data": {
      "text/plain": [
       "372944"
      ]
     },
     "execution_count": 21,
     "metadata": {},
     "output_type": "execute_result"
    }
   ],
   "source": [
    "movies_pr['id'].memory_usage(index=False, deep=True)"
   ]
  },
  {
   "cell_type": "code",
   "execution_count": 22,
   "metadata": {},
   "outputs": [],
   "source": [
    "#Shrink numerical columns with smaller dtypes\n",
    "movies_pr = pd.read_csv('C:/Users/mohit/movies-processed.csv', dtype={\"id\":\"int8\"})"
   ]
  },
  {
   "cell_type": "code",
   "execution_count": 23,
   "metadata": {},
   "outputs": [
    {
     "data": {
      "text/plain": [
       "46618"
      ]
     },
     "execution_count": 23,
     "metadata": {},
     "output_type": "execute_result"
    }
   ],
   "source": [
    "movies_pr['id'].memory_usage(index=False, deep=True)"
   ]
  },
  {
   "cell_type": "code",
   "execution_count": 24,
   "metadata": {},
   "outputs": [
    {
     "data": {
      "text/html": [
       "<div>\n",
       "<style scoped>\n",
       "    .dataframe tbody tr th:only-of-type {\n",
       "        vertical-align: middle;\n",
       "    }\n",
       "\n",
       "    .dataframe tbody tr th {\n",
       "        vertical-align: top;\n",
       "    }\n",
       "\n",
       "    .dataframe thead th {\n",
       "        text-align: right;\n",
       "    }\n",
       "</style>\n",
       "<table border=\"1\" class=\"dataframe\">\n",
       "  <thead>\n",
       "    <tr style=\"text-align: right;\">\n",
       "      <th></th>\n",
       "      <th>genres</th>\n",
       "      <th>id</th>\n",
       "      <th>keywords</th>\n",
       "      <th>original_title</th>\n",
       "      <th>overview</th>\n",
       "      <th>cast</th>\n",
       "      <th>crew</th>\n",
       "      <th>Director</th>\n",
       "    </tr>\n",
       "  </thead>\n",
       "  <tbody>\n",
       "    <tr>\n",
       "      <th>0</th>\n",
       "      <td>['animation', 'comedy', 'family']</td>\n",
       "      <td>94</td>\n",
       "      <td>['jealousy', 'toy', 'boy']</td>\n",
       "      <td>toy story</td>\n",
       "      <td>Led by Woody, Andy's toys live happily in his ...</td>\n",
       "      <td>['tomhanks', 'timallen', 'donrickles']</td>\n",
       "      <td>[{'credit_id': '52fe4284c3a36847f8024f49', 'de...</td>\n",
       "      <td>johnlasseter</td>\n",
       "    </tr>\n",
       "    <tr>\n",
       "      <th>1</th>\n",
       "      <td>['adventure', 'fantasy', 'family']</td>\n",
       "      <td>-116</td>\n",
       "      <td>['boardgame', 'disappearance', \"basedonchildre...</td>\n",
       "      <td>jumanji</td>\n",
       "      <td>When siblings Judy and Peter discover an encha...</td>\n",
       "      <td>['robinwilliams', 'jonathanhyde', 'kirstendunst']</td>\n",
       "      <td>[{'credit_id': '52fe44bfc3a36847f80a7cd1', 'de...</td>\n",
       "      <td>joejohnston</td>\n",
       "    </tr>\n",
       "    <tr>\n",
       "      <th>2</th>\n",
       "      <td>['romance', 'comedy']</td>\n",
       "      <td>-14</td>\n",
       "      <td>['fishing', 'bestfriend', 'duringcreditsstinger']</td>\n",
       "      <td>grumpier old men</td>\n",
       "      <td>A family wedding reignites the ancient feud be...</td>\n",
       "      <td>['waltermatthau', 'jacklemmon', 'ann-margret']</td>\n",
       "      <td>[{'credit_id': '52fe466a9251416c75077a89', 'de...</td>\n",
       "      <td>howarddeutch</td>\n",
       "    </tr>\n",
       "    <tr>\n",
       "      <th>3</th>\n",
       "      <td>['comedy', 'drama', 'romance']</td>\n",
       "      <td>125</td>\n",
       "      <td>['basedonnovel', 'interracialrelationship', 's...</td>\n",
       "      <td>waiting to exhale</td>\n",
       "      <td>Cheated on, mistreated and stepped on, the wom...</td>\n",
       "      <td>['whitneyhouston', 'angelabassett', 'lorettade...</td>\n",
       "      <td>[{'credit_id': '52fe44779251416c91011acb', 'de...</td>\n",
       "      <td>forestwhitaker</td>\n",
       "    </tr>\n",
       "    <tr>\n",
       "      <th>4</th>\n",
       "      <td>['comedy']</td>\n",
       "      <td>86</td>\n",
       "      <td>['baby', 'midlifecrisis', 'confidence']</td>\n",
       "      <td>father of the bride part ii</td>\n",
       "      <td>Just when George Banks has recovered from his ...</td>\n",
       "      <td>['stevemartin', 'dianekeaton', 'martinshort']</td>\n",
       "      <td>[{'credit_id': '52fe44959251416c75039ed7', 'de...</td>\n",
       "      <td>charlesshyer</td>\n",
       "    </tr>\n",
       "  </tbody>\n",
       "</table>\n",
       "</div>"
      ],
      "text/plain": [
       "                               genres   id  \\\n",
       "0   ['animation', 'comedy', 'family']   94   \n",
       "1  ['adventure', 'fantasy', 'family'] -116   \n",
       "2               ['romance', 'comedy']  -14   \n",
       "3      ['comedy', 'drama', 'romance']  125   \n",
       "4                          ['comedy']   86   \n",
       "\n",
       "                                            keywords  \\\n",
       "0                         ['jealousy', 'toy', 'boy']   \n",
       "1  ['boardgame', 'disappearance', \"basedonchildre...   \n",
       "2  ['fishing', 'bestfriend', 'duringcreditsstinger']   \n",
       "3  ['basedonnovel', 'interracialrelationship', 's...   \n",
       "4            ['baby', 'midlifecrisis', 'confidence']   \n",
       "\n",
       "                original_title  \\\n",
       "0                    toy story   \n",
       "1                      jumanji   \n",
       "2             grumpier old men   \n",
       "3            waiting to exhale   \n",
       "4  father of the bride part ii   \n",
       "\n",
       "                                            overview  \\\n",
       "0  Led by Woody, Andy's toys live happily in his ...   \n",
       "1  When siblings Judy and Peter discover an encha...   \n",
       "2  A family wedding reignites the ancient feud be...   \n",
       "3  Cheated on, mistreated and stepped on, the wom...   \n",
       "4  Just when George Banks has recovered from his ...   \n",
       "\n",
       "                                                cast  \\\n",
       "0             ['tomhanks', 'timallen', 'donrickles']   \n",
       "1  ['robinwilliams', 'jonathanhyde', 'kirstendunst']   \n",
       "2     ['waltermatthau', 'jacklemmon', 'ann-margret']   \n",
       "3  ['whitneyhouston', 'angelabassett', 'lorettade...   \n",
       "4      ['stevemartin', 'dianekeaton', 'martinshort']   \n",
       "\n",
       "                                                crew        Director  \n",
       "0  [{'credit_id': '52fe4284c3a36847f8024f49', 'de...    johnlasseter  \n",
       "1  [{'credit_id': '52fe44bfc3a36847f80a7cd1', 'de...     joejohnston  \n",
       "2  [{'credit_id': '52fe466a9251416c75077a89', 'de...    howarddeutch  \n",
       "3  [{'credit_id': '52fe44779251416c91011acb', 'de...  forestwhitaker  \n",
       "4  [{'credit_id': '52fe44959251416c75039ed7', 'de...    charlesshyer  "
      ]
     },
     "execution_count": 24,
     "metadata": {},
     "output_type": "execute_result"
    }
   ],
   "source": [
    "movies_pr.head()"
   ]
  },
  {
   "cell_type": "code",
   "execution_count": 25,
   "metadata": {},
   "outputs": [],
   "source": [
    "def combine_features(x):\n",
    "    return ' '.join(x['keywords'])+ ' ' + ' '.join(x['cast']) + ' ' + str(x['Director']) + ' ' + ' '.join(x['genres'])\n",
    "movies_pr['combined'] = movies_pr.apply(combine_features, axis = 1)"
   ]
  },
  {
   "cell_type": "code",
   "execution_count": 26,
   "metadata": {},
   "outputs": [
    {
     "data": {
      "text/html": [
       "<div>\n",
       "<style scoped>\n",
       "    .dataframe tbody tr th:only-of-type {\n",
       "        vertical-align: middle;\n",
       "    }\n",
       "\n",
       "    .dataframe tbody tr th {\n",
       "        vertical-align: top;\n",
       "    }\n",
       "\n",
       "    .dataframe thead th {\n",
       "        text-align: right;\n",
       "    }\n",
       "</style>\n",
       "<table border=\"1\" class=\"dataframe\">\n",
       "  <thead>\n",
       "    <tr style=\"text-align: right;\">\n",
       "      <th></th>\n",
       "      <th>genres</th>\n",
       "      <th>id</th>\n",
       "      <th>keywords</th>\n",
       "      <th>original_title</th>\n",
       "      <th>overview</th>\n",
       "      <th>cast</th>\n",
       "      <th>crew</th>\n",
       "      <th>Director</th>\n",
       "      <th>combined</th>\n",
       "    </tr>\n",
       "  </thead>\n",
       "  <tbody>\n",
       "    <tr>\n",
       "      <th>0</th>\n",
       "      <td>['animation', 'comedy', 'family']</td>\n",
       "      <td>94</td>\n",
       "      <td>['jealousy', 'toy', 'boy']</td>\n",
       "      <td>toy story</td>\n",
       "      <td>Led by Woody, Andy's toys live happily in his ...</td>\n",
       "      <td>['tomhanks', 'timallen', 'donrickles']</td>\n",
       "      <td>[{'credit_id': '52fe4284c3a36847f8024f49', 'de...</td>\n",
       "      <td>johnlasseter</td>\n",
       "      <td>[ ' j e a l o u s y ' ,   ' t o y ' ,   ' b o ...</td>\n",
       "    </tr>\n",
       "    <tr>\n",
       "      <th>1</th>\n",
       "      <td>['adventure', 'fantasy', 'family']</td>\n",
       "      <td>-116</td>\n",
       "      <td>['boardgame', 'disappearance', \"basedonchildre...</td>\n",
       "      <td>jumanji</td>\n",
       "      <td>When siblings Judy and Peter discover an encha...</td>\n",
       "      <td>['robinwilliams', 'jonathanhyde', 'kirstendunst']</td>\n",
       "      <td>[{'credit_id': '52fe44bfc3a36847f80a7cd1', 'de...</td>\n",
       "      <td>joejohnston</td>\n",
       "      <td>[ ' b o a r d g a m e ' ,   ' d i s a p p e a ...</td>\n",
       "    </tr>\n",
       "    <tr>\n",
       "      <th>2</th>\n",
       "      <td>['romance', 'comedy']</td>\n",
       "      <td>-14</td>\n",
       "      <td>['fishing', 'bestfriend', 'duringcreditsstinger']</td>\n",
       "      <td>grumpier old men</td>\n",
       "      <td>A family wedding reignites the ancient feud be...</td>\n",
       "      <td>['waltermatthau', 'jacklemmon', 'ann-margret']</td>\n",
       "      <td>[{'credit_id': '52fe466a9251416c75077a89', 'de...</td>\n",
       "      <td>howarddeutch</td>\n",
       "      <td>[ ' f i s h i n g ' ,   ' b e s t f r i e n d ...</td>\n",
       "    </tr>\n",
       "    <tr>\n",
       "      <th>3</th>\n",
       "      <td>['comedy', 'drama', 'romance']</td>\n",
       "      <td>125</td>\n",
       "      <td>['basedonnovel', 'interracialrelationship', 's...</td>\n",
       "      <td>waiting to exhale</td>\n",
       "      <td>Cheated on, mistreated and stepped on, the wom...</td>\n",
       "      <td>['whitneyhouston', 'angelabassett', 'lorettade...</td>\n",
       "      <td>[{'credit_id': '52fe44779251416c91011acb', 'de...</td>\n",
       "      <td>forestwhitaker</td>\n",
       "      <td>[ ' b a s e d o n n o v e l ' ,   ' i n t e r ...</td>\n",
       "    </tr>\n",
       "    <tr>\n",
       "      <th>4</th>\n",
       "      <td>['comedy']</td>\n",
       "      <td>86</td>\n",
       "      <td>['baby', 'midlifecrisis', 'confidence']</td>\n",
       "      <td>father of the bride part ii</td>\n",
       "      <td>Just when George Banks has recovered from his ...</td>\n",
       "      <td>['stevemartin', 'dianekeaton', 'martinshort']</td>\n",
       "      <td>[{'credit_id': '52fe44959251416c75039ed7', 'de...</td>\n",
       "      <td>charlesshyer</td>\n",
       "      <td>[ ' b a b y ' ,   ' m i d l i f e c r i s i s ...</td>\n",
       "    </tr>\n",
       "  </tbody>\n",
       "</table>\n",
       "</div>"
      ],
      "text/plain": [
       "                               genres   id  \\\n",
       "0   ['animation', 'comedy', 'family']   94   \n",
       "1  ['adventure', 'fantasy', 'family'] -116   \n",
       "2               ['romance', 'comedy']  -14   \n",
       "3      ['comedy', 'drama', 'romance']  125   \n",
       "4                          ['comedy']   86   \n",
       "\n",
       "                                            keywords  \\\n",
       "0                         ['jealousy', 'toy', 'boy']   \n",
       "1  ['boardgame', 'disappearance', \"basedonchildre...   \n",
       "2  ['fishing', 'bestfriend', 'duringcreditsstinger']   \n",
       "3  ['basedonnovel', 'interracialrelationship', 's...   \n",
       "4            ['baby', 'midlifecrisis', 'confidence']   \n",
       "\n",
       "                original_title  \\\n",
       "0                    toy story   \n",
       "1                      jumanji   \n",
       "2             grumpier old men   \n",
       "3            waiting to exhale   \n",
       "4  father of the bride part ii   \n",
       "\n",
       "                                            overview  \\\n",
       "0  Led by Woody, Andy's toys live happily in his ...   \n",
       "1  When siblings Judy and Peter discover an encha...   \n",
       "2  A family wedding reignites the ancient feud be...   \n",
       "3  Cheated on, mistreated and stepped on, the wom...   \n",
       "4  Just when George Banks has recovered from his ...   \n",
       "\n",
       "                                                cast  \\\n",
       "0             ['tomhanks', 'timallen', 'donrickles']   \n",
       "1  ['robinwilliams', 'jonathanhyde', 'kirstendunst']   \n",
       "2     ['waltermatthau', 'jacklemmon', 'ann-margret']   \n",
       "3  ['whitneyhouston', 'angelabassett', 'lorettade...   \n",
       "4      ['stevemartin', 'dianekeaton', 'martinshort']   \n",
       "\n",
       "                                                crew        Director  \\\n",
       "0  [{'credit_id': '52fe4284c3a36847f8024f49', 'de...    johnlasseter   \n",
       "1  [{'credit_id': '52fe44bfc3a36847f80a7cd1', 'de...     joejohnston   \n",
       "2  [{'credit_id': '52fe466a9251416c75077a89', 'de...    howarddeutch   \n",
       "3  [{'credit_id': '52fe44779251416c91011acb', 'de...  forestwhitaker   \n",
       "4  [{'credit_id': '52fe44959251416c75039ed7', 'de...    charlesshyer   \n",
       "\n",
       "                                            combined  \n",
       "0  [ ' j e a l o u s y ' ,   ' t o y ' ,   ' b o ...  \n",
       "1  [ ' b o a r d g a m e ' ,   ' d i s a p p e a ...  \n",
       "2  [ ' f i s h i n g ' ,   ' b e s t f r i e n d ...  \n",
       "3  [ ' b a s e d o n n o v e l ' ,   ' i n t e r ...  \n",
       "4  [ ' b a b y ' ,   ' m i d l i f e c r i s i s ...  "
      ]
     },
     "execution_count": 26,
     "metadata": {},
     "output_type": "execute_result"
    }
   ],
   "source": [
    "movies_pr.head()"
   ]
  },
  {
   "cell_type": "code",
   "execution_count": 27,
   "metadata": {},
   "outputs": [
    {
     "name": "stdout",
     "output_type": "stream",
     "text": [
      "<class 'pandas.core.frame.DataFrame'>\n",
      "RangeIndex: 46618 entries, 0 to 46617\n",
      "Data columns (total 9 columns):\n",
      " #   Column          Non-Null Count  Dtype \n",
      "---  ------          --------------  ----- \n",
      " 0   genres          46618 non-null  object\n",
      " 1   id              46618 non-null  int8  \n",
      " 2   keywords        46618 non-null  object\n",
      " 3   original_title  46618 non-null  object\n",
      " 4   overview        45623 non-null  object\n",
      " 5   cast            46618 non-null  object\n",
      " 6   crew            46618 non-null  object\n",
      " 7   Director        45701 non-null  object\n",
      " 8   combined        46618 non-null  object\n",
      "dtypes: int8(1), object(8)\n",
      "memory usage: 2.9+ MB\n"
     ]
    }
   ],
   "source": [
    "movies_pr.info()"
   ]
  },
  {
   "cell_type": "code",
   "execution_count": 28,
   "metadata": {},
   "outputs": [],
   "source": [
    "from sklearn.feature_extraction.text import CountVectorizer\n",
    "\n",
    "cv = CountVectorizer(stop_words='english')\n",
    "count_matrix = cv.fit_transform(movies_pr['combined'])"
   ]
  },
  {
   "cell_type": "code",
   "execution_count": 29,
   "metadata": {},
   "outputs": [
    {
     "data": {
      "text/plain": [
       "<46618x18277 sparse matrix of type '<class 'numpy.int64'>'\n",
       "\twith 50041 stored elements in Compressed Sparse Row format>"
      ]
     },
     "execution_count": 29,
     "metadata": {},
     "output_type": "execute_result"
    }
   ],
   "source": [
    "count_matrix"
   ]
  },
  {
   "cell_type": "code",
   "execution_count": 31,
   "metadata": {},
   "outputs": [
    {
     "data": {
      "text/plain": [
       "(46618, 18277)"
      ]
     },
     "execution_count": 31,
     "metadata": {},
     "output_type": "execute_result"
    }
   ],
   "source": [
    "count_matrix.shape"
   ]
  },
  {
   "cell_type": "code",
   "execution_count": 32,
   "metadata": {},
   "outputs": [],
   "source": [
    "#RUN it on AWS server\n",
    "from sklearn.metrics.pairwise import cosine_similarity\n",
    "\n",
    "sim = cosine_similarity(count_matrix, count_matrix)"
   ]
  },
  {
   "cell_type": "code",
   "execution_count": 33,
   "metadata": {},
   "outputs": [
    {
     "data": {
      "text/plain": [
       "(46618, 46618)"
      ]
     },
     "execution_count": 33,
     "metadata": {},
     "output_type": "execute_result"
    }
   ],
   "source": [
    "sim.shape"
   ]
  },
  {
   "cell_type": "code",
   "execution_count": 34,
   "metadata": {},
   "outputs": [],
   "source": [
    "movies_pr.to_csv('movies_features_combined.csv', index=False)"
   ]
  }
 ],
 "metadata": {
  "kernelspec": {
   "display_name": "Python 3",
   "language": "python",
   "name": "python3"
  },
  "language_info": {
   "codemirror_mode": {
    "name": "ipython",
    "version": 3
   },
   "file_extension": ".py",
   "mimetype": "text/x-python",
   "name": "python",
   "nbconvert_exporter": "python",
   "pygments_lexer": "ipython3",
   "version": "3.6.10"
  }
 },
 "nbformat": 4,
 "nbformat_minor": 4
}
